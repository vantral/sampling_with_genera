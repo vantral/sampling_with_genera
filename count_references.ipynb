{
 "cells": [
  {
   "cell_type": "code",
   "execution_count": 1,
   "id": "a4afc24a",
   "metadata": {},
   "outputs": [],
   "source": [
    "from pathlib import Path"
   ]
  },
  {
   "cell_type": "code",
   "execution_count": 8,
   "id": "46e5b65f",
   "metadata": {},
   "outputs": [],
   "source": [
    "count = 0\n",
    "for path in Path('glottolog/references/bibtex').iterdir():\n",
    "    count += path.open(encoding='utf8').read().count('@')"
   ]
  },
  {
   "cell_type": "code",
   "execution_count": 9,
   "id": "a1c2ba9d",
   "metadata": {},
   "outputs": [
    {
     "data": {
      "text/plain": [
       "530564"
      ]
     },
     "execution_count": 9,
     "metadata": {},
     "output_type": "execute_result"
    }
   ],
   "source": [
    "count"
   ]
  }
 ],
 "metadata": {
  "kernelspec": {
   "display_name": "Python 3 (ipykernel)",
   "language": "python",
   "name": "python3"
  },
  "language_info": {
   "codemirror_mode": {
    "name": "ipython",
    "version": 3
   },
   "file_extension": ".py",
   "mimetype": "text/x-python",
   "name": "python",
   "nbconvert_exporter": "python",
   "pygments_lexer": "ipython3",
   "version": "3.10.9"
  }
 },
 "nbformat": 4,
 "nbformat_minor": 5
}
